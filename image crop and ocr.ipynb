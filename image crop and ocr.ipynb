{
 "cells": [
  {
   "cell_type": "code",
   "execution_count": 1,
   "metadata": {},
   "outputs": [],
   "source": [
    "import cv2\n",
    "\n",
    "# Global variables to store the points\n",
    "drawing = False\n",
    "x, y = [], []\n",
    "\n",
    "def find_coordinates(event, x_mouse, y_mouse, flags, params):\n",
    "    global drawing, x, y\n",
    "\n",
    "    if event == cv2.EVENT_LBUTTONDOWN:\n",
    "        # Append the coordinates of the click to the lists\n",
    "        x.append(x_mouse)\n",
    "        y.append(y_mouse)\n",
    "        # Draw a circle at the clicked point\n",
    "        cv2.circle(params, (x_mouse, y_mouse), 5, (0, 0, 255), -1)\n",
    "        cv2.imshow('document', params)\n",
    "\n",
    "# Load the image and resize it\n",
    "image = cv2.imread(r\"C:\\Users\\ASUS\\Downloads\\WhatsApp Image 2024-10-21 at 14.31.27_79f545d0.jpg\")  # Path to the image\n",
    "image = cv2.resize(image, (800, 800))\n",
    "\n",
    "# Create a copy of the image for display\n",
    "image_copy = image.copy()\n",
    "\n",
    "cv2.namedWindow('document')\n",
    "cv2.setMouseCallback('document', find_coordinates, image_copy)\n",
    "\n",
    "while True:\n",
    "    cv2.imshow('document', image_copy)\n",
    "\n",
    "    # Break the loop when 'q' is pressed\n",
    "    if cv2.waitKey(1) & 0xFF == ord('q'):\n",
    "        break\n",
    "\n",
    "cv2.destroyAllWindows()\n"
   ]
  },
  {
   "cell_type": "code",
   "execution_count": 2,
   "metadata": {},
   "outputs": [],
   "source": [
    "import numpy as np\n",
    "x1,y1 = x[0],y[0]\n",
    "x3,y3= x[1],y[1]\n",
    "x4,y4 = x[2],y[2]\n",
    "x2,y2 = x[3],y[3]\n",
    "\n",
    "point_A = np.float32([[x1,y1],[x2,y2],[x3,y3],[x4,y4]])\n",
    "point_B = np.float32([[0,0],[x2,0],[0,y3],[x2,y4]])\n",
    "\n",
    "M = cv2.getPerspectiveTransform(point_A,point_B)\n",
    "warped = cv2.warpPerspective(image,M,(x2,y4))\n",
    "\n",
    "cv2.imshow('warped',warped)\n",
    "cv2.waitKey()\n",
    "cv2.destroyAllWindows()"
   ]
  },
  {
   "cell_type": "code",
   "execution_count": 4,
   "metadata": {},
   "outputs": [
    {
     "name": "stdout",
     "output_type": "stream",
     "text": [
      "Recognized Text:\n",
      "10. What is an expression and a statement ?\n",
      "\n",
      "11, What all components can a Python program contain ?\n",
      "\n",
      "12. What do you understand by block/code block/auite in Python ?\n",
      "18. What is the role of indentation in Python ?\n",
      "\n",
      "14. What are variables ? How are they important for a program ?\n",
      "15. What do you understand by undefined variable in Python ?\n",
      "\n",
      "16. What is Dynamic Typing feature of Python ?\n",
      "am) What ccanld the fallawine code do: X¥ =Y¥=77?\n",
      "\n"
     ]
    }
   ],
   "source": [
    "import cv2\n",
    "import pytesseract\n",
    "\n",
    "# Set up the path to tesseract executable\n",
    "pytesseract.pytesseract.tesseract_cmd = r'C:\\Program Files\\Tesseract-OCR\\tesseract.exe'\n",
    "\n",
    "# Read the image\n",
    "\n",
    "\n",
    "# Convert the image to grayscale\n",
    "gray = cv2.cvtColor(warped, cv2.COLOR_BGR2GRAY)\n",
    "\n",
    "# Apply thresholding or other preprocessing steps if needed\n",
    "gray = cv2.threshold(gray, 0, 255, cv2.THRESH_BINARY | cv2.THRESH_OTSU)[1]\n",
    "\n",
    "# Use pytesseract to do OCR on the image\n",
    "text = pytesseract.image_to_string(gray)\n",
    "\n",
    "print(\"Recognized Text:\")\n",
    "print(text)"
   ]
  },
  {
   "cell_type": "code",
   "execution_count": null,
   "metadata": {},
   "outputs": [],
   "source": []
  }
 ],
 "metadata": {
  "kernelspec": {
   "display_name": "base",
   "language": "python",
   "name": "python3"
  },
  "language_info": {
   "codemirror_mode": {
    "name": "ipython",
    "version": 3
   },
   "file_extension": ".py",
   "mimetype": "text/x-python",
   "name": "python",
   "nbconvert_exporter": "python",
   "pygments_lexer": "ipython3",
   "version": "3.11.5"
  }
 },
 "nbformat": 4,
 "nbformat_minor": 2
}
